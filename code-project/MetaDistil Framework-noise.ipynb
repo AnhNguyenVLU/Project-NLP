{
 "cells": [
  {
   "cell_type": "markdown",
   "id": "7064e25f-e32b-4edf-8e8d-e8d2828a9b50",
   "metadata": {
    "tags": []
   },
   "source": [
    "# MetaDistil with Pytorch"
   ]
  },
  {
   "cell_type": "markdown",
   "id": "90047416-d1ee-4db0-8326-bbe63d6324fc",
   "metadata": {
    "tags": []
   },
   "source": [
    "## 0. Choosing our \"teacher\" and \"student\" models"
   ]
  },
  {
   "cell_type": "code",
   "execution_count": 1,
   "id": "afecb57b-992c-4835-ab27-3a13610d784f",
   "metadata": {
    "tags": []
   },
   "outputs": [],
   "source": [
    "student = \"distilbert-base-uncased\"\n",
    "teacher = \"textattack/bert-base-uncased-SST-2\""
   ]
  },
  {
   "cell_type": "code",
   "execution_count": 2,
   "id": "e8fc0d38-49d3-4e0b-8b5c-189fa14ea004",
   "metadata": {},
   "outputs": [],
   "source": [
    "import random\n",
    "\n",
    "# Function to add noise to input sentences\n",
    "def add_noise(sentence, p=0.1):\n",
    "    if isinstance(sentence, list):\n",
    "        # If sentence is a list of strings\n",
    "        return [add_noise(s, p) for s in sentence]\n",
    "    words = sentence.split()\n",
    "    for i, word in enumerate(words):\n",
    "        if random.uniform(0, 1) < p:\n",
    "            words[i] = \"noise_word\"\n",
    "    return \" \".join(words)\n"
   ]
  },
  {
   "cell_type": "markdown",
   "id": "a0971f04-b427-41eb-885c-d29c27531fe1",
   "metadata": {
    "id": "Mxo4XGgRgQhO",
    "tags": []
   },
   "source": [
    "## 1. Loading our SST-2 part of the GLUE dataset"
   ]
  },
  {
   "cell_type": "code",
   "execution_count": 3,
   "id": "ab932bfc-32b9-4a9a-a128-87764c3ed9bb",
   "metadata": {},
   "outputs": [
    {
     "name": "stderr",
     "output_type": "stream",
     "text": [
      "Found cached dataset glue (/home/st122910/.cache/huggingface/datasets/glue/sst2/1.0.0/dacbe3125aa31d7f70367a07a8a9e72a5a0bfeb5fc42e75c9db75b96da6053ad)\n"
     ]
    },
    {
     "data": {
      "application/vnd.jupyter.widget-view+json": {
       "model_id": "0ed7531d269446efba84aa0964c787d6",
       "version_major": 2,
       "version_minor": 0
      },
      "text/plain": [
       "  0%|          | 0/4 [00:00<?, ?it/s]"
      ]
     },
     "metadata": {},
     "output_type": "display_data"
    }
   ],
   "source": [
    "from datasets import load_dataset\n",
    "from transformers import AutoTokenizer, DataCollatorWithPadding\n",
    "import os\n",
    "os.environ['http_proxy']  = 'http://192.41.170.23:3128'\n",
    "os.environ['https_proxy'] = 'http://192.41.170.23:3128'\n",
    "\n",
    "raw_datasets = load_dataset(\"glue\", \"sst2\", split=[\"train[:25000]\", \"train[30000:30100]\", \"validation\", \"train[25000:30000]\"])\n",
    "tokenizer = AutoTokenizer.from_pretrained(student)"
   ]
  },
  {
   "cell_type": "code",
   "execution_count": 4,
   "id": "e9e79b6d-a9eb-4c12-b21b-fb489f212242",
   "metadata": {},
   "outputs": [
    {
     "data": {
      "text/plain": [
       "[Dataset({\n",
       "     features: ['sentence', 'label', 'idx'],\n",
       "     num_rows: 25000\n",
       " }),\n",
       " Dataset({\n",
       "     features: ['sentence', 'label', 'idx'],\n",
       "     num_rows: 100\n",
       " }),\n",
       " Dataset({\n",
       "     features: ['sentence', 'label', 'idx'],\n",
       "     num_rows: 872\n",
       " }),\n",
       " Dataset({\n",
       "     features: ['sentence', 'label', 'idx'],\n",
       "     num_rows: 5000\n",
       " })]"
      ]
     },
     "execution_count": 4,
     "metadata": {},
     "output_type": "execute_result"
    }
   ],
   "source": [
    "raw_datasets"
   ]
  },
  {
   "cell_type": "code",
   "execution_count": 5,
   "id": "f47e81a2-a78d-49f1-81db-b4931e9ddb9f",
   "metadata": {},
   "outputs": [],
   "source": [
    "from datasets import DatasetDict"
   ]
  },
  {
   "cell_type": "code",
   "execution_count": 6,
   "id": "a70912f6-59be-4604-b5a5-f66558751451",
   "metadata": {},
   "outputs": [],
   "source": [
    "raw_datasets = DatasetDict({\n",
    "    \"train\": raw_datasets[0],\n",
    "    \"quiz\": raw_datasets[1],\n",
    "    \"validation\": raw_datasets[2],\n",
    "    \"test\": raw_datasets[3]\n",
    "})"
   ]
  },
  {
   "cell_type": "code",
   "execution_count": 7,
   "id": "3829acea-b6c2-4edd-aad1-84282b70deb8",
   "metadata": {},
   "outputs": [
    {
     "data": {
      "text/plain": [
       "DatasetDict({\n",
       "    train: Dataset({\n",
       "        features: ['sentence', 'label', 'idx'],\n",
       "        num_rows: 25000\n",
       "    })\n",
       "    quiz: Dataset({\n",
       "        features: ['sentence', 'label', 'idx'],\n",
       "        num_rows: 100\n",
       "    })\n",
       "    validation: Dataset({\n",
       "        features: ['sentence', 'label', 'idx'],\n",
       "        num_rows: 872\n",
       "    })\n",
       "    test: Dataset({\n",
       "        features: ['sentence', 'label', 'idx'],\n",
       "        num_rows: 5000\n",
       "    })\n",
       "})"
      ]
     },
     "execution_count": 7,
     "metadata": {},
     "output_type": "execute_result"
    }
   ],
   "source": [
    "raw_datasets"
   ]
  },
  {
   "cell_type": "code",
   "execution_count": 8,
   "id": "8a60a762-a645-44f3-9f81-8d99eb460a4c",
   "metadata": {},
   "outputs": [
    {
     "data": {
      "text/plain": [
       "{'sentence': 'hide new secretions from the parental units ',\n",
       " 'label': 0,\n",
       " 'idx': 0}"
      ]
     },
     "execution_count": 8,
     "metadata": {},
     "output_type": "execute_result"
    }
   ],
   "source": [
    "raw_train_dataset = raw_datasets[\"train\"]\n",
    "raw_train_dataset[0]"
   ]
  },
  {
   "cell_type": "code",
   "execution_count": 9,
   "id": "b5129c07-ff71-43f3-adeb-ff0fd7c78899",
   "metadata": {},
   "outputs": [
    {
     "data": {
      "text/plain": [
       "\"that 's far too tragic to merit such superficial treatment \""
      ]
     },
     "execution_count": 9,
     "metadata": {},
     "output_type": "execute_result"
    }
   ],
   "source": [
    "raw_train_dataset[5]['sentence']"
   ]
  },
  {
   "cell_type": "code",
   "execution_count": 10,
   "id": "f3034d31-6e7f-48cf-a311-ec7cc42c350f",
   "metadata": {},
   "outputs": [
    {
     "data": {
      "text/plain": [
       "0"
      ]
     },
     "execution_count": 10,
     "metadata": {},
     "output_type": "execute_result"
    }
   ],
   "source": [
    "raw_train_dataset[5]['label']"
   ]
  },
  {
   "cell_type": "code",
   "execution_count": 11,
   "id": "e1af11e7-8889-4e08-869c-051af44697c0",
   "metadata": {},
   "outputs": [
    {
     "data": {
      "text/plain": [
       "5"
      ]
     },
     "execution_count": 11,
     "metadata": {},
     "output_type": "execute_result"
    }
   ],
   "source": [
    "raw_train_dataset[5]['idx']"
   ]
  },
  {
   "cell_type": "code",
   "execution_count": 12,
   "id": "4b210c08-bb55-4a04-ab54-c3f5e0bf46ef",
   "metadata": {},
   "outputs": [
    {
     "data": {
      "text/plain": [
       "{'sentence': Value(dtype='string', id=None),\n",
       " 'label': ClassLabel(names=['negative', 'positive'], id=None),\n",
       " 'idx': Value(dtype='int32', id=None)}"
      ]
     },
     "execution_count": 12,
     "metadata": {},
     "output_type": "execute_result"
    }
   ],
   "source": [
    "raw_train_dataset.features"
   ]
  },
  {
   "cell_type": "markdown",
   "id": "e5a1f96e-be41-4644-82fa-9a3f74d4ed1e",
   "metadata": {
    "tags": []
   },
   "source": [
    "## 2. Preprocess"
   ]
  },
  {
   "cell_type": "code",
   "execution_count": 13,
   "id": "4ff60ea0-a21e-45ab-a779-efcb81b19a89",
   "metadata": {},
   "outputs": [],
   "source": [
    "# Tokenize the sentences and add noise\n",
    "def tokenize_function(example):\n",
    "    sentence = example[\"sentence\"]\n",
    "    sentence = add_noise(sentence) # add noise\n",
    "    return tokenizer(sentence, truncation=True)\n"
   ]
  },
  {
   "cell_type": "code",
   "execution_count": 14,
   "id": "fabfeb85-135a-40dc-8cf8-b7d7cb452ece",
   "metadata": {},
   "outputs": [
    {
     "name": "stderr",
     "output_type": "stream",
     "text": [
      "Loading cached processed dataset at /home/st122910/.cache/huggingface/datasets/glue/sst2/1.0.0/dacbe3125aa31d7f70367a07a8a9e72a5a0bfeb5fc42e75c9db75b96da6053ad/cache-7b462fe6d31b72d7.arrow\n",
      "Loading cached processed dataset at /home/st122910/.cache/huggingface/datasets/glue/sst2/1.0.0/dacbe3125aa31d7f70367a07a8a9e72a5a0bfeb5fc42e75c9db75b96da6053ad/cache-0166e97818538d12.arrow\n"
     ]
    },
    {
     "data": {
      "application/vnd.jupyter.widget-view+json": {
       "model_id": "",
       "version_major": 2,
       "version_minor": 0
      },
      "text/plain": [
       "Map:   0%|          | 0/872 [00:00<?, ? examples/s]"
      ]
     },
     "metadata": {},
     "output_type": "display_data"
    },
    {
     "name": "stderr",
     "output_type": "stream",
     "text": [
      "Loading cached processed dataset at /home/st122910/.cache/huggingface/datasets/glue/sst2/1.0.0/dacbe3125aa31d7f70367a07a8a9e72a5a0bfeb5fc42e75c9db75b96da6053ad/cache-9099dc02038aa9fe.arrow\n"
     ]
    },
    {
     "data": {
      "text/plain": [
       "DatasetDict({\n",
       "    train: Dataset({\n",
       "        features: ['sentence', 'label', 'idx', 'input_ids', 'attention_mask'],\n",
       "        num_rows: 25000\n",
       "    })\n",
       "    quiz: Dataset({\n",
       "        features: ['sentence', 'label', 'idx', 'input_ids', 'attention_mask'],\n",
       "        num_rows: 100\n",
       "    })\n",
       "    validation: Dataset({\n",
       "        features: ['sentence', 'label', 'idx', 'input_ids', 'attention_mask'],\n",
       "        num_rows: 872\n",
       "    })\n",
       "    test: Dataset({\n",
       "        features: ['sentence', 'label', 'idx', 'input_ids', 'attention_mask'],\n",
       "        num_rows: 5000\n",
       "    })\n",
       "})"
      ]
     },
     "execution_count": 14,
     "metadata": {},
     "output_type": "execute_result"
    }
   ],
   "source": [
    "\n",
    "tokenized_datasets = raw_datasets.map(tokenize_function, batched=True)\n",
    "tokenized_datasets"
   ]
  },
  {
   "cell_type": "markdown",
   "id": "649b8b0a-7576-4362-ae8a-1741cf51ecd1",
   "metadata": {},
   "source": [
    "## 3. Preparing for Training"
   ]
  },
  {
   "cell_type": "code",
   "execution_count": 15,
   "id": "a7fdb8d0-32e9-4288-8dc4-284e4368ed8b",
   "metadata": {},
   "outputs": [],
   "source": [
    "from transformers import DataCollatorWithPadding\n",
    "\n",
    "data_collator = DataCollatorWithPadding(tokenizer=tokenizer)"
   ]
  },
  {
   "cell_type": "code",
   "execution_count": 16,
   "id": "1d2c9769-6361-4656-84ca-a8403a4ecc96",
   "metadata": {},
   "outputs": [
    {
     "data": {
      "text/plain": [
       "['labels', 'input_ids', 'attention_mask']"
      ]
     },
     "execution_count": 16,
     "metadata": {},
     "output_type": "execute_result"
    }
   ],
   "source": [
    "tokenized_datasets = tokenized_datasets.remove_columns([\"sentence\", \"idx\"])\n",
    "tokenized_datasets = tokenized_datasets.rename_column(\"label\", \"labels\")\n",
    "tokenized_datasets.set_format(\"torch\")\n",
    "tokenized_datasets[\"train\"].column_names"
   ]
  },
  {
   "cell_type": "code",
   "execution_count": 17,
   "id": "9194db92-7e68-4881-aa37-f386a7b5b649",
   "metadata": {},
   "outputs": [],
   "source": [
    "from torch.utils.data import DataLoader\n",
    "\n",
    "train_dataloader = DataLoader(\n",
    "    tokenized_datasets[\"train\"], shuffle=True, batch_size=64, collate_fn=data_collator\n",
    ")\n",
    "\n",
    "quiz_dataloader = DataLoader(\n",
    "    tokenized_datasets[\"quiz\"], shuffle=True, batch_size=64, collate_fn=data_collator\n",
    ")\n",
    "\n",
    "val_dataloader = DataLoader(\n",
    "    tokenized_datasets[\"validation\"], batch_size=20, collate_fn=data_collator\n",
    ")\n",
    "\n",
    "eval_dataloader = DataLoader(\n",
    "    tokenized_datasets[\"test\"], batch_size=128, collate_fn=data_collator\n",
    ")"
   ]
  },
  {
   "cell_type": "code",
   "execution_count": 18,
   "id": "abfdd3c9-0062-4e9f-abef-7fd534ad2abd",
   "metadata": {},
   "outputs": [
    {
     "name": "stderr",
     "output_type": "stream",
     "text": [
      "You're using a DistilBertTokenizerFast tokenizer. Please note that with a fast tokenizer, using the `__call__` method is faster than using a method to encode the text followed by a call to the `pad` method to get a padded encoding.\n"
     ]
    },
    {
     "data": {
      "text/plain": [
       "{'labels': torch.Size([64]),\n",
       " 'input_ids': torch.Size([64, 45]),\n",
       " 'attention_mask': torch.Size([64, 45])}"
      ]
     },
     "execution_count": 18,
     "metadata": {},
     "output_type": "execute_result"
    }
   ],
   "source": [
    "for batch in train_dataloader:\n",
    "    break\n",
    "{k: v.shape for k, v in batch.items()}"
   ]
  },
  {
   "cell_type": "markdown",
   "id": "a6831c73-b008-4f63-b6b2-0fe64b68f484",
   "metadata": {},
   "source": [
    "## 4. Loading \"teacher\" and \"student\" models "
   ]
  },
  {
   "cell_type": "code",
   "execution_count": 19,
   "id": "1818dca4-90dc-4476-b558-5a75457f6c9d",
   "metadata": {},
   "outputs": [],
   "source": [
    "# id2label, label2id dicts for the outputs for the model\n",
    "labels = tokenized_datasets[\"train\"].features[\"labels\"].names\n",
    "num_labels = len(labels)\n",
    "label2id, id2label = dict(), dict()\n",
    "for i, label in enumerate(labels):\n",
    "    label2id[label] = str(i)\n",
    "    id2label[str(i)] = label"
   ]
  },
  {
   "cell_type": "code",
   "execution_count": 20,
   "id": "ced65a0c-d4ea-4840-a0c3-0ec169049d88",
   "metadata": {},
   "outputs": [
    {
     "name": "stderr",
     "output_type": "stream",
     "text": [
      "Some weights of the model checkpoint at distilbert-base-uncased were not used when initializing DistilBertForSequenceClassification: ['vocab_layer_norm.bias', 'vocab_projector.weight', 'vocab_transform.weight', 'vocab_transform.bias', 'vocab_layer_norm.weight', 'vocab_projector.bias']\n",
      "- This IS expected if you are initializing DistilBertForSequenceClassification from the checkpoint of a model trained on another task or with another architecture (e.g. initializing a BertForSequenceClassification model from a BertForPreTraining model).\n",
      "- This IS NOT expected if you are initializing DistilBertForSequenceClassification from the checkpoint of a model that you expect to be exactly identical (initializing a BertForSequenceClassification model from a BertForSequenceClassification model).\n",
      "Some weights of DistilBertForSequenceClassification were not initialized from the model checkpoint at distilbert-base-uncased and are newly initialized: ['classifier.weight', 'classifier.bias', 'pre_classifier.bias', 'pre_classifier.weight']\n",
      "You should probably TRAIN this model on a down-stream task to be able to use it for predictions and inference.\n"
     ]
    }
   ],
   "source": [
    "from transformers import AutoModelForSequenceClassification\n",
    "\n",
    "# teacher model\n",
    "teacher_model = AutoModelForSequenceClassification.from_pretrained(\n",
    "    teacher,\n",
    "    num_labels=num_labels,\n",
    "    id2label=id2label,\n",
    "    label2id=label2id,\n",
    ")\n",
    "\n",
    "# student model\n",
    "student_model = AutoModelForSequenceClassification.from_pretrained(\n",
    "    student,\n",
    "    num_labels=num_labels,\n",
    "    id2label=id2label,\n",
    "    label2id=label2id,\n",
    ")"
   ]
  },
  {
   "cell_type": "code",
   "execution_count": 21,
   "id": "2d6c63ad-3581-49ba-891f-6208cf8ce793",
   "metadata": {},
   "outputs": [
    {
     "name": "stdout",
     "output_type": "stream",
     "text": [
      "tensor(0.3132, grad_fn=<NllLossBackward0>) torch.Size([64, 2])\n"
     ]
    }
   ],
   "source": [
    "outputs = teacher_model(**batch)\n",
    "print(outputs.loss, outputs.logits.shape)"
   ]
  },
  {
   "cell_type": "code",
   "execution_count": 22,
   "id": "8d5b007f-775c-48de-b76d-8bf8fec6c9e8",
   "metadata": {},
   "outputs": [
    {
     "name": "stdout",
     "output_type": "stream",
     "text": [
      "tensor(0.6992, grad_fn=<NllLossBackward0>) torch.Size([64, 2])\n"
     ]
    }
   ],
   "source": [
    "outputs = student_model(**batch)\n",
    "print(outputs.loss, outputs.logits.shape)"
   ]
  },
  {
   "cell_type": "code",
   "execution_count": 23,
   "id": "870d7475-6b40-48ef-bca7-aae3ae20d1f7",
   "metadata": {},
   "outputs": [],
   "source": [
    "from torch.optim import AdamW\n",
    "\n",
    "teacher_optimizer = AdamW(teacher_model.parameters(), lr=6e-5)\n",
    "student_optimizer = AdamW(student_model.parameters(), lr=6e-5)"
   ]
  },
  {
   "cell_type": "code",
   "execution_count": 24,
   "id": "2911b351-fa16-4999-bb59-acb6d8fadd8b",
   "metadata": {},
   "outputs": [
    {
     "name": "stdout",
     "output_type": "stream",
     "text": [
      "3910\n"
     ]
    }
   ],
   "source": [
    "from transformers import get_scheduler\n",
    "\n",
    "num_epochs = 10\n",
    "num_training_steps = num_epochs * len(train_dataloader)\n",
    "teacher_lr_scheduler = get_scheduler(\n",
    "    \"linear\",\n",
    "    optimizer=teacher_optimizer,\n",
    "    num_warmup_steps=0,\n",
    "    num_training_steps=num_training_steps,\n",
    ")\n",
    "\n",
    "student_lr_scheduler = get_scheduler(\n",
    "    \"linear\",\n",
    "    optimizer=student_optimizer,\n",
    "    num_warmup_steps=0,\n",
    "    num_training_steps=num_training_steps,\n",
    ")\n",
    "print(num_training_steps)"
   ]
  },
  {
   "cell_type": "markdown",
   "id": "54ab5a04-7700-49f8-8dde-f7e53c2c7a06",
   "metadata": {},
   "source": [
    "## 5. Training Loop"
   ]
  },
  {
   "cell_type": "code",
   "execution_count": 25,
   "id": "2c2d938d-1c8d-4d96-bca4-896cde2e38d6",
   "metadata": {},
   "outputs": [
    {
     "data": {
      "text/plain": [
       "device(type='cuda')"
      ]
     },
     "execution_count": 25,
     "metadata": {},
     "output_type": "execute_result"
    }
   ],
   "source": [
    "import torch\n",
    "\n",
    "device = torch.device(\"cuda\") if torch.cuda.is_available() else torch.device(\"cpu\")\n",
    "teacher_model.to(device)\n",
    "student_model.to(device)\n",
    "device"
   ]
  },
  {
   "cell_type": "code",
   "execution_count": 26,
   "id": "b9c447ab-9a8e-4422-8caa-8c8007795ab2",
   "metadata": {},
   "outputs": [],
   "source": [
    "import evaluate\n",
    "\n",
    "def eval_loop(model, dataloader):\n",
    "    metric = evaluate.load(\"glue\", \"sst2\")\n",
    "    model.eval()\n",
    "    for batch in dataloader:\n",
    "        batch = {k: v.to(device) for k, v in batch.items()}\n",
    "        with torch.no_grad():\n",
    "            outputs = model(**batch)\n",
    "\n",
    "        model_loss = outputs.loss\n",
    "        logits     = outputs.logits\n",
    "        predictions = torch.argmax(logits, dim=-1)\n",
    "        metric.add_batch(predictions=predictions, references=batch[\"labels\"])\n",
    "        \n",
    "    return metric.compute(), float(model_loss)"
   ]
  },
  {
   "cell_type": "code",
   "execution_count": 27,
   "id": "a8803ac3-2c8c-4534-9e41-40ce6e9b7b8d",
   "metadata": {},
   "outputs": [],
   "source": [
    "class EarlyStopping():\n",
    "    def __init__(self, patience = 3, threshold = 0.1):\n",
    "        self.patience      = patience\n",
    "        self.threshold     = 0.1\n",
    "        self.prev_val_loss = None\n",
    "        self.patienceCount = 0\n",
    "        \n",
    "    def _checkPatience(self,):\n",
    "        if self.patienceCount == self.patience:\n",
    "            return True\n",
    "        else:\n",
    "            self.patienceCount += 1\n",
    "            return False\n",
    "    \n",
    "    def checkCondition(self, val_loss):\n",
    "        if self.prev_val_loss == None:\n",
    "            self.prev_val_loss = val_loss\n",
    "        elif val_loss - self.prev_val_loss > self.threshold:\n",
    "            return self._checkPatience()\n",
    "        \n",
    "        self.patienceCount = 0\n",
    "        return False"
   ]
  },
  {
   "cell_type": "code",
   "execution_count": 28,
   "id": "a3ebd6a6-fadf-4b7b-a1bd-431bc177ef7a",
   "metadata": {},
   "outputs": [
    {
     "data": {
      "application/vnd.jupyter.widget-view+json": {
       "model_id": "78f4ec22fd00422dab8e02edd338a367",
       "version_major": 2,
       "version_minor": 0
      },
      "text/plain": [
       "  0%|          | 0/3910 [00:00<?, ?it/s]"
      ]
     },
     "metadata": {},
     "output_type": "display_data"
    },
    {
     "name": "stdout",
     "output_type": "stream",
     "text": [
      "<----------------- Epoch 1 ----------------->\n",
      "Loss: 0.62, Accuracy: 0.84552\n",
      "Validation Loss: 0.36, Validation Accuracy: 0.8761467889908257\n",
      "Elapsed Time: 247.1208 sec\n",
      "<----------------- Epoch 2 ----------------->\n",
      "Loss: 0.26, Accuracy: 0.9086\n",
      "Validation Loss: 0.37, Validation Accuracy: 0.8887614678899083\n",
      "Elapsed Time: 254.238 sec\n",
      "<----------------- Epoch 3 ----------------->\n",
      "Loss: 0.18, Accuracy: 0.92588\n",
      "Validation Loss: 0.5, Validation Accuracy: 0.8795871559633027\n",
      "Elapsed Time: 256.4461 sec\n",
      "<----------------- Epoch 4 ----------------->\n",
      "Loss: 0.15, Accuracy: 0.9326\n",
      "Validation Loss: 0.61, Validation Accuracy: 0.8864678899082569\n",
      "Elapsed Time: 271.8569 sec\n",
      "<----------------- Epoch 5 ----------------->\n",
      "Loss: 0.14, Accuracy: 0.93612\n",
      "Validation Loss: 0.53, Validation Accuracy: 0.8944954128440367\n",
      "Elapsed Time: 257.5635 sec\n",
      "<----------------- Epoch 6 ----------------->\n",
      "Loss: 0.12, Accuracy: 0.93908\n",
      "Validation Loss: 0.48, Validation Accuracy: 0.8876146788990825\n",
      "Elapsed Time: 251.0652 sec\n",
      "<----------------- Epoch 7 ----------------->\n",
      "Loss: 0.12, Accuracy: 0.9388\n",
      "Validation Loss: 0.34, Validation Accuracy: 0.8979357798165137\n",
      "Elapsed Time: 259.4969 sec\n",
      "<----------------- Epoch 8 ----------------->\n",
      "Loss: 0.11, Accuracy: 0.9394\n",
      "Validation Loss: 0.42, Validation Accuracy: 0.8922018348623854\n",
      "Elapsed Time: 278.7605 sec\n",
      "<----------------- Epoch 9 ----------------->\n",
      "Loss: 0.11, Accuracy: 0.93992\n",
      "Validation Loss: 0.35, Validation Accuracy: 0.8887614678899083\n",
      "Elapsed Time: 254.9037 sec\n",
      "<----------------- Epoch 10 ----------------->\n",
      "Loss: 0.11, Accuracy: 0.94\n",
      "Validation Loss: 0.4, Validation Accuracy: 0.893348623853211\n",
      "Elapsed Time: 250.1303 sec\n",
      "Total Training Time: 2581.5839512348175 sec\n"
     ]
    }
   ],
   "source": [
    "import torch.nn as nn\n",
    "import torch.nn.functional as F\n",
    "from tqdm.auto import tqdm\n",
    "import copy\n",
    "import time\n",
    "\n",
    "progress_bar = tqdm(range(num_training_steps))\n",
    "temperature = 4\n",
    "alpha=0.5\n",
    "n_batches = len(train_dataloader)\n",
    "n_val_batches = len(eval_dataloader)\n",
    "\n",
    "train_losses = []\n",
    "train_accs   = []\n",
    "val_losses   = []\n",
    "val_accs     = []\n",
    "\n",
    "time_per_epoch_hist = []\n",
    "\n",
    "def perform_knowledge_distillation(batch, teacher_model, student_model, student_optimizer, student_lr_scheduler, original_st_model=False):\n",
    "    # compute student output\n",
    "    outputs_student = student_model(**batch)\n",
    "    student_loss    = outputs_student.loss\n",
    "    \n",
    "    # for computing training accuracy at the end of epoch\n",
    "    student_logits  = outputs_student.logits\n",
    "\n",
    "    # compute teacher output\n",
    "    teacher_model.eval()\n",
    "    with torch.no_grad():\n",
    "        outputs_teacher = teacher_model(**batch)\n",
    "\n",
    "    # assert size\n",
    "    assert outputs_student.logits.size() == outputs_teacher.logits.size()\n",
    "\n",
    "    # compute distillation loss and soften probabilities\n",
    "    loss_function = nn.KLDivLoss(reduction=\"batchmean\")\n",
    "    loss_logits = (loss_function(\n",
    "        F.log_softmax(outputs_student.logits / temperature, dim=-1),\n",
    "        F.softmax(outputs_teacher.logits / temperature, dim=-1)) * (temperature ** 2))\n",
    "\n",
    "    loss = alpha * student_loss + (1. - alpha) * loss_logits\n",
    "    loss.backward()\n",
    "\n",
    "    student_optimizer.step()\n",
    "    if original_st_model:\n",
    "        student_lr_scheduler.step()\n",
    "    student_optimizer.zero_grad()\n",
    "    \n",
    "    if original_st_model:\n",
    "        return float(loss), student_logits\n",
    "\n",
    "train_start = time.time() \n",
    "for epoch in range(num_epochs):\n",
    "    start = time.time()\n",
    "    accuracy_metric = evaluate.load(\"accuracy\")\n",
    "    student_model.train()\n",
    "    total_loss = 0\n",
    "    val_old_loss = float(\"Inf\")\n",
    "    \n",
    "    earlyStopping = EarlyStopping()\n",
    "    \n",
    "    for b, batch in enumerate(train_dataloader):\n",
    "        batch = {k: v.to(device) for k, v in batch.items()}\n",
    "        \n",
    "        #### create student backup\n",
    "        student_model_state_dict     = copy.deepcopy(student_model.state_dict())\n",
    "        student_optimizer_state_dict = copy.deepcopy(student_optimizer.state_dict())\n",
    "        \n",
    "        #### perform knowledge distllation\n",
    "        perform_knowledge_distillation(batch, teacher_model, student_model, student_optimizer, student_lr_scheduler)\n",
    "        torch.cuda.empty_cache()\n",
    "        \n",
    "        #### test student model on quiz data        \n",
    "        quiz_loss_hist = []\n",
    "        for quiz_batch in quiz_dataloader:\n",
    "            quiz_batch   = {k: v.to(device) for k, v in quiz_batch.items()}\n",
    "            quiz_outputs = student_model(**quiz_batch)\n",
    "            quiz_loss    = quiz_outputs.loss\n",
    "            quiz_loss_hist.append(float(quiz_loss))\n",
    "            \n",
    "        avg_quiz_loss = sum(quiz_loss_hist) / len(quiz_loss_hist)\n",
    "        avg_quiz_loss = torch.tensor(avg_quiz_loss, requires_grad=True)\n",
    "        del quiz_outputs, quiz_loss\n",
    "        torch.cuda.empty_cache()\n",
    "        \n",
    "        #### Update teacher model with quiz data and copy student model loss\n",
    "        teacher_model.train()\n",
    "        t_grads = torch.autograd.grad(avg_quiz_loss, teacher_model.parameters(), allow_unused=True)\n",
    "        for p, gr in zip(teacher_model.parameters(), t_grads):\n",
    "                p.grad = gr\n",
    "        \n",
    "        teacher_optimizer.step()\n",
    "        teacher_lr_scheduler.step()\n",
    "        teacher_optimizer.zero_grad()\n",
    "        \n",
    "        #### restoring and updating orginal student weights\n",
    "        student_model.load_state_dict(student_model_state_dict)\n",
    "        student_optimizer.load_state_dict(student_optimizer_state_dict)\n",
    "        \n",
    "        del student_model_state_dict, student_optimizer_state_dict\n",
    "        torch.cuda.empty_cache()\n",
    "        \n",
    "        loss, student_logits = perform_knowledge_distillation(batch, teacher_model, student_model, student_optimizer, student_lr_scheduler, original_st_model=True)\n",
    "        total_loss += loss\n",
    "        predictions = torch.argmax(student_logits, dim=-1)\n",
    "        accuracy_metric.add_batch(predictions=predictions, references=batch[\"labels\"])\n",
    "\n",
    "        progress_bar.update(1)\n",
    "        \n",
    "    avg_train_loss = total_loss / n_batches\n",
    "    train_acc      = accuracy_metric.compute()\n",
    "    train_losses.append(avg_train_loss)\n",
    "    train_accs.append(train_acc['accuracy'])\n",
    "    \n",
    "    #### validation training loss and accuracy \n",
    "    val_acc, val_loss = eval_loop(student_model, val_dataloader)\n",
    "    val_losses.append(val_loss)\n",
    "    val_accs.append(val_acc['accuracy'])\n",
    "    \n",
    "    if val_loss < val_old_loss:\n",
    "        val_old_loss = val_loss\n",
    "        saveObject = {\n",
    "            'epoch': epoch + 1,\n",
    "            'batch': b + 1,\n",
    "            'model_state_dict': student_model.state_dict(),\n",
    "            'optimizer_state_dict': student_optimizer.state_dict(),\n",
    "            'lr_scheduler_state_dict': student_lr_scheduler.state_dict()\n",
    "        }\n",
    "        torch.save(saveObject,'test1.pt')   \n",
    "    \n",
    "    #### Display metrics\n",
    "    print(\"<-----------------\", \"Epoch\", epoch + 1, \"----------------->\")\n",
    "    print(f\"Loss: {round(avg_train_loss, 2)}, Accuracy: {train_acc['accuracy']}\")\n",
    "    print(f\"Validation Loss: {round(val_loss, 2)}, Validation Accuracy: {val_acc['accuracy']}\")\n",
    "    \n",
    "    total_time_per_epoch = time.time() - start\n",
    "    print(\"Elapsed Time:\", round(total_time_per_epoch, 4), \"sec\") \n",
    "    time_per_epoch_hist.append(total_time_per_epoch)\n",
    "    \n",
    "    #### Check early stopping\n",
    "    if earlyStopping.checkCondition(val_loss):\n",
    "        print(\">>>>> Early stoppping callback <<<<<\")\n",
    "        break\n",
    "\n",
    "total_train_time = time.time() - train_start\n",
    "print(\"Total Training Time:\", total_train_time, \"sec\")"
   ]
  },
  {
   "cell_type": "code",
   "execution_count": 29,
   "id": "0f03cd7f-b4f8-474f-9864-8db6a92f93ba",
   "metadata": {},
   "outputs": [],
   "source": [
    "saveMetricObject = {\n",
    "    \"train_losses\": train_losses,\n",
    "    \"train_accs\": train_accs,\n",
    "    \"val_losses\": val_losses,\n",
    "    \"val_accs\": val_accs,\n",
    "    \"time_per_epoch_hist\": time_per_epoch_hist,\n",
    "    \"total_train_time\": total_train_time\n",
    "}\n",
    "\n",
    "torch.save(saveMetricObject, 'test1.pt')"
   ]
  },
  {
   "cell_type": "markdown",
   "id": "29fce30b-2dbf-4eb8-8608-bfbf905f1b0c",
   "metadata": {},
   "source": [
    "### Plot Losses"
   ]
  },
  {
   "cell_type": "code",
   "execution_count": 30,
   "id": "c05aba6a-b288-4a43-9a9d-ca820558cf06",
   "metadata": {},
   "outputs": [],
   "source": [
    "import matplotlib.pyplot as plt"
   ]
  },
  {
   "cell_type": "code",
   "execution_count": 31,
   "id": "ceab8313-5311-40e3-877a-b31282174cfb",
   "metadata": {},
   "outputs": [],
   "source": [
    "def plotLoss(trainingLoss, valLoss):\n",
    "    plt.plot(trainingLoss)\n",
    "    plt.plot(valLoss)\n",
    "    plt.xlabel(\"Epoch\")\n",
    "    plt.ylabel(\"Loss\")\n",
    "    plt.legend([\"Training Loss\", \"Val Loss\"])"
   ]
  },
  {
   "cell_type": "code",
   "execution_count": 32,
   "id": "7775baec-d62f-418d-af58-4ad0e5c1f693",
   "metadata": {},
   "outputs": [
    {
     "data": {
      "image/png": "[encoded data removed]",
      "text/plain": [
       "<Figure size 432x288 with 1 Axes>"
      ]
     },
     "metadata": {
      "needs_background": "light"
     },
     "output_type": "display_data"
    }
   ],
   "source": [
    "plotLoss(train_losses, val_losses)"
   ]
  },
  {
   "cell_type": "markdown",
   "id": "8f55dda0-ab72-4e39-8e09-b0bc0b055686",
   "metadata": {},
   "source": [
    "### Plotting Acccuracy"
   ]
  },
  {
   "cell_type": "code",
   "execution_count": 33,
   "id": "f6537219-bfe5-4499-8b25-e79e95675b83",
   "metadata": {},
   "outputs": [],
   "source": [
    "def plotAccuracy(trainingAcc, valAcc):\n",
    "    plt.plot(trainingAcc)\n",
    "    plt.plot(valAcc)\n",
    "    plt.xlabel(\"Epoch\")\n",
    "    plt.ylabel(\"Accuracy (%)\")\n",
    "    plt.legend([\"Training Accuracy\", \"Val Accuracy\"])"
   ]
  },
  {
   "cell_type": "code",
   "execution_count": 34,
   "id": "b87d4838-4bc6-4952-9d51-4b2d1b18955a",
   "metadata": {},
   "outputs": [
    {
     "data": {
      "image/png": "[encoded data removed]",
      "text/plain": [
       "<Figure size 432x288 with 1 Axes>"
      ]
     },
     "metadata": {
      "needs_background": "light"
     },
     "output_type": "display_data"
    }
   ],
   "source": [
    "plotAccuracy(train_accs, val_accs)"
   ]
  },
  {
   "cell_type": "markdown",
   "id": "115ae1d4-1ad8-4733-b772-1121f65ee317",
   "metadata": {
    "tags": []
   },
   "source": [
    "## 6. Evaluation"
   ]
  },
  {
   "cell_type": "code",
   "execution_count": 35,
   "id": "b9ccccf8-e68c-492b-ad97-33cc0e602d45",
   "metadata": {},
   "outputs": [],
   "source": [
    "best_weight = torch.load('test1.pt')"
   ]
  },
  {
   "cell_type": "markdown",
   "id": "29c85c19-0a65-4f9b-bc3f-db526b3187c1",
   "metadata": {},
   "source": [
    "### Teacher Model Accuracy"
   ]
  },
  {
   "cell_type": "code",
   "execution_count": null,
   "id": "1c3a242b-0085-44fe-9ef1-ef4bb08fcfe9",
   "metadata": {},
   "outputs": [
    {
     "data": {
      "text/plain": [
       "0.918"
      ]
     },
     "execution_count": 38,
     "metadata": {},
     "output_type": "execute_result"
    }
   ],
   "source": [
    "eval_loop(teacher_model, eval_dataloader)[0]['accuracy']"
   ]
  },
  {
   "cell_type": "markdown",
   "id": "7a88e019-2b3b-47ec-b733-c7ece93b2655",
   "metadata": {},
   "source": [
    "### Student Model Accuracy"
   ]
  },
  {
   "cell_type": "code",
   "execution_count": null,
   "id": "0c7e0f1e-f2a5-4ac4-97ef-115920ea0877",
   "metadata": {},
   "outputs": [
    {
     "data": {
      "text/plain": [
       "0.9078"
      ]
     },
     "execution_count": 39,
     "metadata": {},
     "output_type": "execute_result"
    }
   ],
   "source": [
    "eval_loop(student_model, eval_dataloader)[0]['accuracy']"
   ]
  }
 ],
 "metadata": {
  "kernelspec": {
   "display_name": "Python 3 (ipykernel)",
   "language": "python",
   "name": "python3"
  },
  "language_info": {
   "codemirror_mode": {
    "name": "ipython",
    "version": 3
   },
   "file_extension": ".py",
   "mimetype": "text/x-python",
   "name": "python",
   "nbconvert_exporter": "python",
   "pygments_lexer": "ipython3",
   "version": "3.9.7"
  }
 },
 "nbformat": 4,
 "nbformat_minor": 5
}
